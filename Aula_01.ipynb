{
  "nbformat": 4,
  "nbformat_minor": 0,
  "metadata": {
    "colab": {
      "name": "Aula_01.ipynb",
      "provenance": [],
      "authorship_tag": "ABX9TyNAkD28UGa9Djy0mEsMQKDk",
      "include_colab_link": true
    },
    "kernelspec": {
      "name": "python3",
      "display_name": "Python 3"
    },
    "language_info": {
      "name": "python"
    }
  },
  "cells": [
    {
      "cell_type": "markdown",
      "metadata": {
        "id": "view-in-github",
        "colab_type": "text"
      },
      "source": [
        "<a href=\"https://colab.research.google.com/github/carlosvinicius-ai/Imersao-Dados-Alura/blob/main/Aula_01.ipynb\" target=\"_parent\"><img src=\"https://colab.research.google.com/assets/colab-badge.svg\" alt=\"Open In Colab\"/></a>"
      ]
    },
    {
      "cell_type": "code",
      "execution_count": 2,
      "metadata": {
        "id": "hKfeg89PeReR"
      },
      "outputs": [],
      "source": [
        "import pandas as pd\n",
        "url = \"https://gist.githubusercontent.com/tgcsantos/3bdb29eba6ce391e90df2b72205ba891/raw/22fa920e80c9fa209a9fccc8b52d74cc95d1599b/dados_imoveis.csv\"\n",
        "dados = pd.read_csv(url)"
      ]
    },
    {
      "cell_type": "code",
      "source": [
        "dados.head()"
      ],
      "metadata": {
        "colab": {
          "base_uri": "https://localhost:8080/",
          "height": 206
        },
        "id": "YkuFXCudis2Y",
        "outputId": "edc18155-ca50-4eeb-c5a5-76f610271e42"
      },
      "execution_count": 3,
      "outputs": [
        {
          "output_type": "execute_result",
          "data": {
            "text/plain": [
              "                              Rua              Bairro     Cidade  Metragem  \\\n",
              "0           Avenida Itacira, 255    Planalto Paulista  São Paulo      1000   \n",
              "1  Rua Aurelia Perez Alvarez, 42   Jardim dos Estados  São Paulo       496   \n",
              "2                 Rua Alba Valdez     Jardim Reimberg  São Paulo       125   \n",
              "3                             NaN      Jardim Morumbi  São Paulo       310   \n",
              "4        Rua Tobias Barreto, 195                Mooca  São Paulo       100   \n",
              "\n",
              "   Quartos  Banheiros  Vagas         Valor  \n",
              "0        4          8      6  R$ 7.000.000  \n",
              "1        4          4      4  R$ 3.700.000  \n",
              "2        4          3      2    R$ 380.000  \n",
              "3        3          2      4    R$ 685.000  \n",
              "4        3          2      2    R$ 540.000  "
            ],
            "text/html": [
              "\n",
              "  <div id=\"df-cfde3bfb-d0f5-4fef-b216-2d5097b2a39b\">\n",
              "    <div class=\"colab-df-container\">\n",
              "      <div>\n",
              "<style scoped>\n",
              "    .dataframe tbody tr th:only-of-type {\n",
              "        vertical-align: middle;\n",
              "    }\n",
              "\n",
              "    .dataframe tbody tr th {\n",
              "        vertical-align: top;\n",
              "    }\n",
              "\n",
              "    .dataframe thead th {\n",
              "        text-align: right;\n",
              "    }\n",
              "</style>\n",
              "<table border=\"1\" class=\"dataframe\">\n",
              "  <thead>\n",
              "    <tr style=\"text-align: right;\">\n",
              "      <th></th>\n",
              "      <th>Rua</th>\n",
              "      <th>Bairro</th>\n",
              "      <th>Cidade</th>\n",
              "      <th>Metragem</th>\n",
              "      <th>Quartos</th>\n",
              "      <th>Banheiros</th>\n",
              "      <th>Vagas</th>\n",
              "      <th>Valor</th>\n",
              "    </tr>\n",
              "  </thead>\n",
              "  <tbody>\n",
              "    <tr>\n",
              "      <th>0</th>\n",
              "      <td>Avenida Itacira, 255</td>\n",
              "      <td>Planalto Paulista</td>\n",
              "      <td>São Paulo</td>\n",
              "      <td>1000</td>\n",
              "      <td>4</td>\n",
              "      <td>8</td>\n",
              "      <td>6</td>\n",
              "      <td>R$ 7.000.000</td>\n",
              "    </tr>\n",
              "    <tr>\n",
              "      <th>1</th>\n",
              "      <td>Rua Aurelia Perez Alvarez, 42</td>\n",
              "      <td>Jardim dos Estados</td>\n",
              "      <td>São Paulo</td>\n",
              "      <td>496</td>\n",
              "      <td>4</td>\n",
              "      <td>4</td>\n",
              "      <td>4</td>\n",
              "      <td>R$ 3.700.000</td>\n",
              "    </tr>\n",
              "    <tr>\n",
              "      <th>2</th>\n",
              "      <td>Rua Alba Valdez</td>\n",
              "      <td>Jardim Reimberg</td>\n",
              "      <td>São Paulo</td>\n",
              "      <td>125</td>\n",
              "      <td>4</td>\n",
              "      <td>3</td>\n",
              "      <td>2</td>\n",
              "      <td>R$ 380.000</td>\n",
              "    </tr>\n",
              "    <tr>\n",
              "      <th>3</th>\n",
              "      <td>NaN</td>\n",
              "      <td>Jardim Morumbi</td>\n",
              "      <td>São Paulo</td>\n",
              "      <td>310</td>\n",
              "      <td>3</td>\n",
              "      <td>2</td>\n",
              "      <td>4</td>\n",
              "      <td>R$ 685.000</td>\n",
              "    </tr>\n",
              "    <tr>\n",
              "      <th>4</th>\n",
              "      <td>Rua Tobias Barreto, 195</td>\n",
              "      <td>Mooca</td>\n",
              "      <td>São Paulo</td>\n",
              "      <td>100</td>\n",
              "      <td>3</td>\n",
              "      <td>2</td>\n",
              "      <td>2</td>\n",
              "      <td>R$ 540.000</td>\n",
              "    </tr>\n",
              "  </tbody>\n",
              "</table>\n",
              "</div>\n",
              "      <button class=\"colab-df-convert\" onclick=\"convertToInteractive('df-cfde3bfb-d0f5-4fef-b216-2d5097b2a39b')\"\n",
              "              title=\"Convert this dataframe to an interactive table.\"\n",
              "              style=\"display:none;\">\n",
              "        \n",
              "  <svg xmlns=\"http://www.w3.org/2000/svg\" height=\"24px\"viewBox=\"0 0 24 24\"\n",
              "       width=\"24px\">\n",
              "    <path d=\"M0 0h24v24H0V0z\" fill=\"none\"/>\n",
              "    <path d=\"M18.56 5.44l.94 2.06.94-2.06 2.06-.94-2.06-.94-.94-2.06-.94 2.06-2.06.94zm-11 1L8.5 8.5l.94-2.06 2.06-.94-2.06-.94L8.5 2.5l-.94 2.06-2.06.94zm10 10l.94 2.06.94-2.06 2.06-.94-2.06-.94-.94-2.06-.94 2.06-2.06.94z\"/><path d=\"M17.41 7.96l-1.37-1.37c-.4-.4-.92-.59-1.43-.59-.52 0-1.04.2-1.43.59L10.3 9.45l-7.72 7.72c-.78.78-.78 2.05 0 2.83L4 21.41c.39.39.9.59 1.41.59.51 0 1.02-.2 1.41-.59l7.78-7.78 2.81-2.81c.8-.78.8-2.07 0-2.86zM5.41 20L4 18.59l7.72-7.72 1.47 1.35L5.41 20z\"/>\n",
              "  </svg>\n",
              "      </button>\n",
              "      \n",
              "  <style>\n",
              "    .colab-df-container {\n",
              "      display:flex;\n",
              "      flex-wrap:wrap;\n",
              "      gap: 12px;\n",
              "    }\n",
              "\n",
              "    .colab-df-convert {\n",
              "      background-color: #E8F0FE;\n",
              "      border: none;\n",
              "      border-radius: 50%;\n",
              "      cursor: pointer;\n",
              "      display: none;\n",
              "      fill: #1967D2;\n",
              "      height: 32px;\n",
              "      padding: 0 0 0 0;\n",
              "      width: 32px;\n",
              "    }\n",
              "\n",
              "    .colab-df-convert:hover {\n",
              "      background-color: #E2EBFA;\n",
              "      box-shadow: 0px 1px 2px rgba(60, 64, 67, 0.3), 0px 1px 3px 1px rgba(60, 64, 67, 0.15);\n",
              "      fill: #174EA6;\n",
              "    }\n",
              "\n",
              "    [theme=dark] .colab-df-convert {\n",
              "      background-color: #3B4455;\n",
              "      fill: #D2E3FC;\n",
              "    }\n",
              "\n",
              "    [theme=dark] .colab-df-convert:hover {\n",
              "      background-color: #434B5C;\n",
              "      box-shadow: 0px 1px 3px 1px rgba(0, 0, 0, 0.15);\n",
              "      filter: drop-shadow(0px 1px 2px rgba(0, 0, 0, 0.3));\n",
              "      fill: #FFFFFF;\n",
              "    }\n",
              "  </style>\n",
              "\n",
              "      <script>\n",
              "        const buttonEl =\n",
              "          document.querySelector('#df-cfde3bfb-d0f5-4fef-b216-2d5097b2a39b button.colab-df-convert');\n",
              "        buttonEl.style.display =\n",
              "          google.colab.kernel.accessAllowed ? 'block' : 'none';\n",
              "\n",
              "        async function convertToInteractive(key) {\n",
              "          const element = document.querySelector('#df-cfde3bfb-d0f5-4fef-b216-2d5097b2a39b');\n",
              "          const dataTable =\n",
              "            await google.colab.kernel.invokeFunction('convertToInteractive',\n",
              "                                                     [key], {});\n",
              "          if (!dataTable) return;\n",
              "\n",
              "          const docLinkHtml = 'Like what you see? Visit the ' +\n",
              "            '<a target=\"_blank\" href=https://colab.research.google.com/notebooks/data_table.ipynb>data table notebook</a>'\n",
              "            + ' to learn more about interactive tables.';\n",
              "          element.innerHTML = '';\n",
              "          dataTable['output_type'] = 'display_data';\n",
              "          await google.colab.output.renderOutput(dataTable, element);\n",
              "          const docLink = document.createElement('div');\n",
              "          docLink.innerHTML = docLinkHtml;\n",
              "          element.appendChild(docLink);\n",
              "        }\n",
              "      </script>\n",
              "    </div>\n",
              "  </div>\n",
              "  "
            ]
          },
          "metadata": {},
          "execution_count": 3
        }
      ]
    },
    {
      "cell_type": "markdown",
      "source": [
        "Para pegar 10 dados aleatorios da tabela"
      ],
      "metadata": {
        "id": "XwYmqeSlrPlH"
      }
    },
    {
      "cell_type": "code",
      "source": [
        "dados.sample(10)"
      ],
      "metadata": {
        "colab": {
          "base_uri": "https://localhost:8080/",
          "height": 363
        },
        "id": "Yx_z8ufGjhBs",
        "outputId": "ce74d5b7-87ff-4e1e-ea4d-69cc8cf9ea36"
      },
      "execution_count": 7,
      "outputs": [
        {
          "output_type": "execute_result",
          "data": {
            "text/plain": [
              "                                 Rua               Bairro     Cidade  \\\n",
              "8401                             NaN  Vila Nova Conceição  São Paulo   \n",
              "6704               Rua Clara Parente       Vila Primavera  São Paulo   \n",
              "4860                   Rua Alabastro            Aclimação  São Paulo   \n",
              "8594  Rua Professor Francisco Maffei           Interlagos  São Paulo   \n",
              "634      Rua Doutor Jesuíno de Abreu       Jardim Morumbi  São Paulo   \n",
              "81                      Rua Amandaba     Jardim Prudência  São Paulo   \n",
              "1213            Rua Armando Brussolo          Vila Romana  São Paulo   \n",
              "9501                Rua Rio do Peixe           Vila Lúcia  São Paulo   \n",
              "1968         Rua Antônio Alves Magan               Sumaré  São Paulo   \n",
              "9433        Rua Miguel Langone, 383              Itaquera  São Paulo   \n",
              "\n",
              "      Metragem  Quartos  Banheiros  Vagas         Valor  \n",
              "8401       182        3          2      3  R$ 2.875.000  \n",
              "6704        84        3          3      3    R$ 680.000  \n",
              "4860       160        3          2      3  R$ 1.000.000  \n",
              "8594       458        3          7      6  R$ 2.120.000  \n",
              "634        290        3          5      3  R$ 1.250.000  \n",
              "81         253        4          4      2  R$ 1.280.000  \n",
              "1213       130        2          3      2    R$ 720.000  \n",
              "9501       107        3          3      2    R$ 720.000  \n",
              "1968       250        3          5      8  R$ 2.335.000  \n",
              "9433       270        3          2      2    R$ 360.000  "
            ],
            "text/html": [
              "\n",
              "  <div id=\"df-d88d21f4-a998-4e37-ac34-76c77e274d07\">\n",
              "    <div class=\"colab-df-container\">\n",
              "      <div>\n",
              "<style scoped>\n",
              "    .dataframe tbody tr th:only-of-type {\n",
              "        vertical-align: middle;\n",
              "    }\n",
              "\n",
              "    .dataframe tbody tr th {\n",
              "        vertical-align: top;\n",
              "    }\n",
              "\n",
              "    .dataframe thead th {\n",
              "        text-align: right;\n",
              "    }\n",
              "</style>\n",
              "<table border=\"1\" class=\"dataframe\">\n",
              "  <thead>\n",
              "    <tr style=\"text-align: right;\">\n",
              "      <th></th>\n",
              "      <th>Rua</th>\n",
              "      <th>Bairro</th>\n",
              "      <th>Cidade</th>\n",
              "      <th>Metragem</th>\n",
              "      <th>Quartos</th>\n",
              "      <th>Banheiros</th>\n",
              "      <th>Vagas</th>\n",
              "      <th>Valor</th>\n",
              "    </tr>\n",
              "  </thead>\n",
              "  <tbody>\n",
              "    <tr>\n",
              "      <th>8401</th>\n",
              "      <td>NaN</td>\n",
              "      <td>Vila Nova Conceição</td>\n",
              "      <td>São Paulo</td>\n",
              "      <td>182</td>\n",
              "      <td>3</td>\n",
              "      <td>2</td>\n",
              "      <td>3</td>\n",
              "      <td>R$ 2.875.000</td>\n",
              "    </tr>\n",
              "    <tr>\n",
              "      <th>6704</th>\n",
              "      <td>Rua Clara Parente</td>\n",
              "      <td>Vila Primavera</td>\n",
              "      <td>São Paulo</td>\n",
              "      <td>84</td>\n",
              "      <td>3</td>\n",
              "      <td>3</td>\n",
              "      <td>3</td>\n",
              "      <td>R$ 680.000</td>\n",
              "    </tr>\n",
              "    <tr>\n",
              "      <th>4860</th>\n",
              "      <td>Rua Alabastro</td>\n",
              "      <td>Aclimação</td>\n",
              "      <td>São Paulo</td>\n",
              "      <td>160</td>\n",
              "      <td>3</td>\n",
              "      <td>2</td>\n",
              "      <td>3</td>\n",
              "      <td>R$ 1.000.000</td>\n",
              "    </tr>\n",
              "    <tr>\n",
              "      <th>8594</th>\n",
              "      <td>Rua Professor Francisco Maffei</td>\n",
              "      <td>Interlagos</td>\n",
              "      <td>São Paulo</td>\n",
              "      <td>458</td>\n",
              "      <td>3</td>\n",
              "      <td>7</td>\n",
              "      <td>6</td>\n",
              "      <td>R$ 2.120.000</td>\n",
              "    </tr>\n",
              "    <tr>\n",
              "      <th>634</th>\n",
              "      <td>Rua Doutor Jesuíno de Abreu</td>\n",
              "      <td>Jardim Morumbi</td>\n",
              "      <td>São Paulo</td>\n",
              "      <td>290</td>\n",
              "      <td>3</td>\n",
              "      <td>5</td>\n",
              "      <td>3</td>\n",
              "      <td>R$ 1.250.000</td>\n",
              "    </tr>\n",
              "    <tr>\n",
              "      <th>81</th>\n",
              "      <td>Rua Amandaba</td>\n",
              "      <td>Jardim Prudência</td>\n",
              "      <td>São Paulo</td>\n",
              "      <td>253</td>\n",
              "      <td>4</td>\n",
              "      <td>4</td>\n",
              "      <td>2</td>\n",
              "      <td>R$ 1.280.000</td>\n",
              "    </tr>\n",
              "    <tr>\n",
              "      <th>1213</th>\n",
              "      <td>Rua Armando Brussolo</td>\n",
              "      <td>Vila Romana</td>\n",
              "      <td>São Paulo</td>\n",
              "      <td>130</td>\n",
              "      <td>2</td>\n",
              "      <td>3</td>\n",
              "      <td>2</td>\n",
              "      <td>R$ 720.000</td>\n",
              "    </tr>\n",
              "    <tr>\n",
              "      <th>9501</th>\n",
              "      <td>Rua Rio do Peixe</td>\n",
              "      <td>Vila Lúcia</td>\n",
              "      <td>São Paulo</td>\n",
              "      <td>107</td>\n",
              "      <td>3</td>\n",
              "      <td>3</td>\n",
              "      <td>2</td>\n",
              "      <td>R$ 720.000</td>\n",
              "    </tr>\n",
              "    <tr>\n",
              "      <th>1968</th>\n",
              "      <td>Rua Antônio Alves Magan</td>\n",
              "      <td>Sumaré</td>\n",
              "      <td>São Paulo</td>\n",
              "      <td>250</td>\n",
              "      <td>3</td>\n",
              "      <td>5</td>\n",
              "      <td>8</td>\n",
              "      <td>R$ 2.335.000</td>\n",
              "    </tr>\n",
              "    <tr>\n",
              "      <th>9433</th>\n",
              "      <td>Rua Miguel Langone, 383</td>\n",
              "      <td>Itaquera</td>\n",
              "      <td>São Paulo</td>\n",
              "      <td>270</td>\n",
              "      <td>3</td>\n",
              "      <td>2</td>\n",
              "      <td>2</td>\n",
              "      <td>R$ 360.000</td>\n",
              "    </tr>\n",
              "  </tbody>\n",
              "</table>\n",
              "</div>\n",
              "      <button class=\"colab-df-convert\" onclick=\"convertToInteractive('df-d88d21f4-a998-4e37-ac34-76c77e274d07')\"\n",
              "              title=\"Convert this dataframe to an interactive table.\"\n",
              "              style=\"display:none;\">\n",
              "        \n",
              "  <svg xmlns=\"http://www.w3.org/2000/svg\" height=\"24px\"viewBox=\"0 0 24 24\"\n",
              "       width=\"24px\">\n",
              "    <path d=\"M0 0h24v24H0V0z\" fill=\"none\"/>\n",
              "    <path d=\"M18.56 5.44l.94 2.06.94-2.06 2.06-.94-2.06-.94-.94-2.06-.94 2.06-2.06.94zm-11 1L8.5 8.5l.94-2.06 2.06-.94-2.06-.94L8.5 2.5l-.94 2.06-2.06.94zm10 10l.94 2.06.94-2.06 2.06-.94-2.06-.94-.94-2.06-.94 2.06-2.06.94z\"/><path d=\"M17.41 7.96l-1.37-1.37c-.4-.4-.92-.59-1.43-.59-.52 0-1.04.2-1.43.59L10.3 9.45l-7.72 7.72c-.78.78-.78 2.05 0 2.83L4 21.41c.39.39.9.59 1.41.59.51 0 1.02-.2 1.41-.59l7.78-7.78 2.81-2.81c.8-.78.8-2.07 0-2.86zM5.41 20L4 18.59l7.72-7.72 1.47 1.35L5.41 20z\"/>\n",
              "  </svg>\n",
              "      </button>\n",
              "      \n",
              "  <style>\n",
              "    .colab-df-container {\n",
              "      display:flex;\n",
              "      flex-wrap:wrap;\n",
              "      gap: 12px;\n",
              "    }\n",
              "\n",
              "    .colab-df-convert {\n",
              "      background-color: #E8F0FE;\n",
              "      border: none;\n",
              "      border-radius: 50%;\n",
              "      cursor: pointer;\n",
              "      display: none;\n",
              "      fill: #1967D2;\n",
              "      height: 32px;\n",
              "      padding: 0 0 0 0;\n",
              "      width: 32px;\n",
              "    }\n",
              "\n",
              "    .colab-df-convert:hover {\n",
              "      background-color: #E2EBFA;\n",
              "      box-shadow: 0px 1px 2px rgba(60, 64, 67, 0.3), 0px 1px 3px 1px rgba(60, 64, 67, 0.15);\n",
              "      fill: #174EA6;\n",
              "    }\n",
              "\n",
              "    [theme=dark] .colab-df-convert {\n",
              "      background-color: #3B4455;\n",
              "      fill: #D2E3FC;\n",
              "    }\n",
              "\n",
              "    [theme=dark] .colab-df-convert:hover {\n",
              "      background-color: #434B5C;\n",
              "      box-shadow: 0px 1px 3px 1px rgba(0, 0, 0, 0.15);\n",
              "      filter: drop-shadow(0px 1px 2px rgba(0, 0, 0, 0.3));\n",
              "      fill: #FFFFFF;\n",
              "    }\n",
              "  </style>\n",
              "\n",
              "      <script>\n",
              "        const buttonEl =\n",
              "          document.querySelector('#df-d88d21f4-a998-4e37-ac34-76c77e274d07 button.colab-df-convert');\n",
              "        buttonEl.style.display =\n",
              "          google.colab.kernel.accessAllowed ? 'block' : 'none';\n",
              "\n",
              "        async function convertToInteractive(key) {\n",
              "          const element = document.querySelector('#df-d88d21f4-a998-4e37-ac34-76c77e274d07');\n",
              "          const dataTable =\n",
              "            await google.colab.kernel.invokeFunction('convertToInteractive',\n",
              "                                                     [key], {});\n",
              "          if (!dataTable) return;\n",
              "\n",
              "          const docLinkHtml = 'Like what you see? Visit the ' +\n",
              "            '<a target=\"_blank\" href=https://colab.research.google.com/notebooks/data_table.ipynb>data table notebook</a>'\n",
              "            + ' to learn more about interactive tables.';\n",
              "          element.innerHTML = '';\n",
              "          dataTable['output_type'] = 'display_data';\n",
              "          await google.colab.output.renderOutput(dataTable, element);\n",
              "          const docLink = document.createElement('div');\n",
              "          docLink.innerHTML = docLinkHtml;\n",
              "          element.appendChild(docLink);\n",
              "        }\n",
              "      </script>\n",
              "    </div>\n",
              "  </div>\n",
              "  "
            ]
          },
          "metadata": {},
          "execution_count": 7
        }
      ]
    },
    {
      "cell_type": "markdown",
      "source": [
        "Para saber o tipo de dado"
      ],
      "metadata": {
        "id": "vGQtSt7-rVw1"
      }
    },
    {
      "cell_type": "code",
      "source": [
        "type(dados) "
      ],
      "metadata": {
        "colab": {
          "base_uri": "https://localhost:8080/"
        },
        "id": "dPMF0PJ4jiJw",
        "outputId": "0696199a-50cc-4e1a-c2e7-faaf174d3d7a"
      },
      "execution_count": 9,
      "outputs": [
        {
          "output_type": "execute_result",
          "data": {
            "text/plain": [
              "pandas.core.frame.DataFrame"
            ]
          },
          "metadata": {},
          "execution_count": 9
        }
      ]
    },
    {
      "cell_type": "markdown",
      "source": [
        "[\"Bairro\"] Para pegar todos os dados de uma coluna \n",
        "[6532] Para pegar os dados de uma linha"
      ],
      "metadata": {
        "id": "rnki3Z_krbff"
      }
    },
    {
      "cell_type": "code",
      "source": [
        "dados[\"Bairro\"] [6532] "
      ],
      "metadata": {
        "colab": {
          "base_uri": "https://localhost:8080/",
          "height": 35
        },
        "id": "4LXHBHEAk9TC",
        "outputId": "14b31a78-776c-4d7d-8a1d-0a2c252a0cb7"
      },
      "execution_count": 11,
      "outputs": [
        {
          "output_type": "execute_result",
          "data": {
            "text/plain": [
              "'Jardim Santo Amaro'"
            ],
            "application/vnd.google.colaboratory.intrinsic+json": {
              "type": "string"
            }
          },
          "metadata": {},
          "execution_count": 11
        }
      ]
    },
    {
      "cell_type": "markdown",
      "source": [
        "Para informações dos dados"
      ],
      "metadata": {
        "id": "gp9HXWrXrhC9"
      }
    },
    {
      "cell_type": "code",
      "source": [
        "dados.info() "
      ],
      "metadata": {
        "colab": {
          "base_uri": "https://localhost:8080/"
        },
        "id": "yFzeGeeHlOL3",
        "outputId": "e5f0636a-3da0-4572-c729-6ae9002249f7"
      },
      "execution_count": 12,
      "outputs": [
        {
          "output_type": "stream",
          "name": "stdout",
          "text": [
            "<class 'pandas.core.frame.DataFrame'>\n",
            "RangeIndex: 10008 entries, 0 to 10007\n",
            "Data columns (total 8 columns):\n",
            " #   Column     Non-Null Count  Dtype \n",
            "---  ------     --------------  ----- \n",
            " 0   Rua        6574 non-null   object\n",
            " 1   Bairro     9996 non-null   object\n",
            " 2   Cidade     10008 non-null  object\n",
            " 3   Metragem   10008 non-null  int64 \n",
            " 4   Quartos    10008 non-null  int64 \n",
            " 5   Banheiros  10008 non-null  int64 \n",
            " 6   Vagas      10008 non-null  int64 \n",
            " 7   Valor      10008 non-null  object\n",
            "dtypes: int64(4), object(4)\n",
            "memory usage: 625.6+ KB\n"
          ]
        }
      ]
    },
    {
      "cell_type": "markdown",
      "source": [
        "Outra forma de pegar os dados de uma coluna # mean para tirar a media"
      ],
      "metadata": {
        "id": "Ucme2wwCrsYO"
      }
    },
    {
      "cell_type": "code",
      "source": [
        "dados.Metragem.mean() "
      ],
      "metadata": {
        "colab": {
          "base_uri": "https://localhost:8080/"
        },
        "id": "rrFL--UMmBo0",
        "outputId": "1160321f-8d93-4d37-ac80-f514ec44d6e4"
      },
      "execution_count": 14,
      "outputs": [
        {
          "output_type": "execute_result",
          "data": {
            "text/plain": [
              "442.30065947242207"
            ]
          },
          "metadata": {},
          "execution_count": 14
        }
      ]
    },
    {
      "cell_type": "markdown",
      "source": [
        "Para Saber quantos imoveis tem"
      ],
      "metadata": {
        "id": "xiULfoeeruzC"
      }
    },
    {
      "cell_type": "code",
      "source": [
        "sum((dados[\"Bairro\"] == \"Vila Mariana\")) "
      ],
      "metadata": {
        "colab": {
          "base_uri": "https://localhost:8080/"
        },
        "id": "HUT062gYmjn5",
        "outputId": "814fb4fa-29fd-4467-d766-9a3730e991db"
      },
      "execution_count": 18,
      "outputs": [
        {
          "output_type": "execute_result",
          "data": {
            "text/plain": [
              "184"
            ]
          },
          "metadata": {},
          "execution_count": 18
        }
      ]
    },
    {
      "cell_type": "markdown",
      "source": [
        "Para Guardar as informações"
      ],
      "metadata": {
        "id": "vTjBwnXXrxBw"
      }
    },
    {
      "cell_type": "code",
      "source": [
        "tem_imoveis_vila_mariana = (dados[\"Bairro\"] == \"Vila Mariana\")\n",
        "tem_imoveis_vila_mariana "
      ],
      "metadata": {
        "colab": {
          "base_uri": "https://localhost:8080/"
        },
        "id": "y3mdMR2knPVv",
        "outputId": "2a1f139b-59c6-41bf-cde8-5766f59159b5"
      },
      "execution_count": 21,
      "outputs": [
        {
          "output_type": "execute_result",
          "data": {
            "text/plain": [
              "0        False\n",
              "1        False\n",
              "2        False\n",
              "3        False\n",
              "4        False\n",
              "         ...  \n",
              "10003    False\n",
              "10004    False\n",
              "10005    False\n",
              "10006    False\n",
              "10007    False\n",
              "Name: Bairro, Length: 10008, dtype: bool"
            ]
          },
          "metadata": {},
          "execution_count": 21
        }
      ]
    },
    {
      "cell_type": "markdown",
      "source": [
        "Apenas as Linhas que tem imoveis na vila mariana"
      ],
      "metadata": {
        "id": "kAaSIlq0r0dj"
      }
    },
    {
      "cell_type": "code",
      "source": [
        "imoveis_vila_mariana = dados[tem_imoveis_vila_mariana] \n",
        "imoveis_vila_mariana"
      ],
      "metadata": {
        "colab": {
          "base_uri": "https://localhost:8080/",
          "height": 423
        },
        "id": "dkfX2fm_oRmJ",
        "outputId": "abcbc309-fdcb-4f98-ebad-d2a7c1fce43f"
      },
      "execution_count": 23,
      "outputs": [
        {
          "output_type": "execute_result",
          "data": {
            "text/plain": [
              "                               Rua        Bairro     Cidade  Metragem  \\\n",
              "100               Rua Pero Correia  Vila Mariana  São Paulo       250   \n",
              "120   Praça Doutor Carvalho Franco  Vila Mariana  São Paulo       250   \n",
              "155     Rua Professor João Marinho  Vila Mariana  São Paulo       170   \n",
              "160                            NaN  Vila Mariana  São Paulo       228   \n",
              "334         Rua Pero Correia, 892   Vila Mariana  São Paulo       350   \n",
              "...                            ...           ...        ...       ...   \n",
              "9645               Rua Sousa Ramos  Vila Mariana  São Paulo       285   \n",
              "9701             Rua Benito Juarez  Vila Mariana  São Paulo       171   \n",
              "9737             Rua Benito Juarez  Vila Mariana  São Paulo       171   \n",
              "9807                           NaN  Vila Mariana  São Paulo       275   \n",
              "9852              Rua França Pinto  Vila Mariana  São Paulo       280   \n",
              "\n",
              "      Quartos  Banheiros  Vagas         Valor  \n",
              "100         3          3      1  R$ 1.350.000  \n",
              "120         3          5      2  R$ 2.450.000  \n",
              "155         3          4      2  R$ 1.490.000  \n",
              "160         4          5      3  R$ 2.200.000  \n",
              "334         6          4     10  R$ 1.700.000  \n",
              "...       ...        ...    ...           ...  \n",
              "9645        3          5      5  R$ 1.650.000  \n",
              "9701        3          2      4  R$ 1.650.000  \n",
              "9737        3          2      4  R$ 1.650.000  \n",
              "9807        3          1      6  R$ 1.500.000  \n",
              "9852        3          3      4  R$ 1.600.000  \n",
              "\n",
              "[184 rows x 8 columns]"
            ],
            "text/html": [
              "\n",
              "  <div id=\"df-2c7de9a9-bd1d-4498-aae3-272fd5c7862c\">\n",
              "    <div class=\"colab-df-container\">\n",
              "      <div>\n",
              "<style scoped>\n",
              "    .dataframe tbody tr th:only-of-type {\n",
              "        vertical-align: middle;\n",
              "    }\n",
              "\n",
              "    .dataframe tbody tr th {\n",
              "        vertical-align: top;\n",
              "    }\n",
              "\n",
              "    .dataframe thead th {\n",
              "        text-align: right;\n",
              "    }\n",
              "</style>\n",
              "<table border=\"1\" class=\"dataframe\">\n",
              "  <thead>\n",
              "    <tr style=\"text-align: right;\">\n",
              "      <th></th>\n",
              "      <th>Rua</th>\n",
              "      <th>Bairro</th>\n",
              "      <th>Cidade</th>\n",
              "      <th>Metragem</th>\n",
              "      <th>Quartos</th>\n",
              "      <th>Banheiros</th>\n",
              "      <th>Vagas</th>\n",
              "      <th>Valor</th>\n",
              "    </tr>\n",
              "  </thead>\n",
              "  <tbody>\n",
              "    <tr>\n",
              "      <th>100</th>\n",
              "      <td>Rua Pero Correia</td>\n",
              "      <td>Vila Mariana</td>\n",
              "      <td>São Paulo</td>\n",
              "      <td>250</td>\n",
              "      <td>3</td>\n",
              "      <td>3</td>\n",
              "      <td>1</td>\n",
              "      <td>R$ 1.350.000</td>\n",
              "    </tr>\n",
              "    <tr>\n",
              "      <th>120</th>\n",
              "      <td>Praça Doutor Carvalho Franco</td>\n",
              "      <td>Vila Mariana</td>\n",
              "      <td>São Paulo</td>\n",
              "      <td>250</td>\n",
              "      <td>3</td>\n",
              "      <td>5</td>\n",
              "      <td>2</td>\n",
              "      <td>R$ 2.450.000</td>\n",
              "    </tr>\n",
              "    <tr>\n",
              "      <th>155</th>\n",
              "      <td>Rua Professor João Marinho</td>\n",
              "      <td>Vila Mariana</td>\n",
              "      <td>São Paulo</td>\n",
              "      <td>170</td>\n",
              "      <td>3</td>\n",
              "      <td>4</td>\n",
              "      <td>2</td>\n",
              "      <td>R$ 1.490.000</td>\n",
              "    </tr>\n",
              "    <tr>\n",
              "      <th>160</th>\n",
              "      <td>NaN</td>\n",
              "      <td>Vila Mariana</td>\n",
              "      <td>São Paulo</td>\n",
              "      <td>228</td>\n",
              "      <td>4</td>\n",
              "      <td>5</td>\n",
              "      <td>3</td>\n",
              "      <td>R$ 2.200.000</td>\n",
              "    </tr>\n",
              "    <tr>\n",
              "      <th>334</th>\n",
              "      <td>Rua Pero Correia, 892</td>\n",
              "      <td>Vila Mariana</td>\n",
              "      <td>São Paulo</td>\n",
              "      <td>350</td>\n",
              "      <td>6</td>\n",
              "      <td>4</td>\n",
              "      <td>10</td>\n",
              "      <td>R$ 1.700.000</td>\n",
              "    </tr>\n",
              "    <tr>\n",
              "      <th>...</th>\n",
              "      <td>...</td>\n",
              "      <td>...</td>\n",
              "      <td>...</td>\n",
              "      <td>...</td>\n",
              "      <td>...</td>\n",
              "      <td>...</td>\n",
              "      <td>...</td>\n",
              "      <td>...</td>\n",
              "    </tr>\n",
              "    <tr>\n",
              "      <th>9645</th>\n",
              "      <td>Rua Sousa Ramos</td>\n",
              "      <td>Vila Mariana</td>\n",
              "      <td>São Paulo</td>\n",
              "      <td>285</td>\n",
              "      <td>3</td>\n",
              "      <td>5</td>\n",
              "      <td>5</td>\n",
              "      <td>R$ 1.650.000</td>\n",
              "    </tr>\n",
              "    <tr>\n",
              "      <th>9701</th>\n",
              "      <td>Rua Benito Juarez</td>\n",
              "      <td>Vila Mariana</td>\n",
              "      <td>São Paulo</td>\n",
              "      <td>171</td>\n",
              "      <td>3</td>\n",
              "      <td>2</td>\n",
              "      <td>4</td>\n",
              "      <td>R$ 1.650.000</td>\n",
              "    </tr>\n",
              "    <tr>\n",
              "      <th>9737</th>\n",
              "      <td>Rua Benito Juarez</td>\n",
              "      <td>Vila Mariana</td>\n",
              "      <td>São Paulo</td>\n",
              "      <td>171</td>\n",
              "      <td>3</td>\n",
              "      <td>2</td>\n",
              "      <td>4</td>\n",
              "      <td>R$ 1.650.000</td>\n",
              "    </tr>\n",
              "    <tr>\n",
              "      <th>9807</th>\n",
              "      <td>NaN</td>\n",
              "      <td>Vila Mariana</td>\n",
              "      <td>São Paulo</td>\n",
              "      <td>275</td>\n",
              "      <td>3</td>\n",
              "      <td>1</td>\n",
              "      <td>6</td>\n",
              "      <td>R$ 1.500.000</td>\n",
              "    </tr>\n",
              "    <tr>\n",
              "      <th>9852</th>\n",
              "      <td>Rua França Pinto</td>\n",
              "      <td>Vila Mariana</td>\n",
              "      <td>São Paulo</td>\n",
              "      <td>280</td>\n",
              "      <td>3</td>\n",
              "      <td>3</td>\n",
              "      <td>4</td>\n",
              "      <td>R$ 1.600.000</td>\n",
              "    </tr>\n",
              "  </tbody>\n",
              "</table>\n",
              "<p>184 rows × 8 columns</p>\n",
              "</div>\n",
              "      <button class=\"colab-df-convert\" onclick=\"convertToInteractive('df-2c7de9a9-bd1d-4498-aae3-272fd5c7862c')\"\n",
              "              title=\"Convert this dataframe to an interactive table.\"\n",
              "              style=\"display:none;\">\n",
              "        \n",
              "  <svg xmlns=\"http://www.w3.org/2000/svg\" height=\"24px\"viewBox=\"0 0 24 24\"\n",
              "       width=\"24px\">\n",
              "    <path d=\"M0 0h24v24H0V0z\" fill=\"none\"/>\n",
              "    <path d=\"M18.56 5.44l.94 2.06.94-2.06 2.06-.94-2.06-.94-.94-2.06-.94 2.06-2.06.94zm-11 1L8.5 8.5l.94-2.06 2.06-.94-2.06-.94L8.5 2.5l-.94 2.06-2.06.94zm10 10l.94 2.06.94-2.06 2.06-.94-2.06-.94-.94-2.06-.94 2.06-2.06.94z\"/><path d=\"M17.41 7.96l-1.37-1.37c-.4-.4-.92-.59-1.43-.59-.52 0-1.04.2-1.43.59L10.3 9.45l-7.72 7.72c-.78.78-.78 2.05 0 2.83L4 21.41c.39.39.9.59 1.41.59.51 0 1.02-.2 1.41-.59l7.78-7.78 2.81-2.81c.8-.78.8-2.07 0-2.86zM5.41 20L4 18.59l7.72-7.72 1.47 1.35L5.41 20z\"/>\n",
              "  </svg>\n",
              "      </button>\n",
              "      \n",
              "  <style>\n",
              "    .colab-df-container {\n",
              "      display:flex;\n",
              "      flex-wrap:wrap;\n",
              "      gap: 12px;\n",
              "    }\n",
              "\n",
              "    .colab-df-convert {\n",
              "      background-color: #E8F0FE;\n",
              "      border: none;\n",
              "      border-radius: 50%;\n",
              "      cursor: pointer;\n",
              "      display: none;\n",
              "      fill: #1967D2;\n",
              "      height: 32px;\n",
              "      padding: 0 0 0 0;\n",
              "      width: 32px;\n",
              "    }\n",
              "\n",
              "    .colab-df-convert:hover {\n",
              "      background-color: #E2EBFA;\n",
              "      box-shadow: 0px 1px 2px rgba(60, 64, 67, 0.3), 0px 1px 3px 1px rgba(60, 64, 67, 0.15);\n",
              "      fill: #174EA6;\n",
              "    }\n",
              "\n",
              "    [theme=dark] .colab-df-convert {\n",
              "      background-color: #3B4455;\n",
              "      fill: #D2E3FC;\n",
              "    }\n",
              "\n",
              "    [theme=dark] .colab-df-convert:hover {\n",
              "      background-color: #434B5C;\n",
              "      box-shadow: 0px 1px 3px 1px rgba(0, 0, 0, 0.15);\n",
              "      filter: drop-shadow(0px 1px 2px rgba(0, 0, 0, 0.3));\n",
              "      fill: #FFFFFF;\n",
              "    }\n",
              "  </style>\n",
              "\n",
              "      <script>\n",
              "        const buttonEl =\n",
              "          document.querySelector('#df-2c7de9a9-bd1d-4498-aae3-272fd5c7862c button.colab-df-convert');\n",
              "        buttonEl.style.display =\n",
              "          google.colab.kernel.accessAllowed ? 'block' : 'none';\n",
              "\n",
              "        async function convertToInteractive(key) {\n",
              "          const element = document.querySelector('#df-2c7de9a9-bd1d-4498-aae3-272fd5c7862c');\n",
              "          const dataTable =\n",
              "            await google.colab.kernel.invokeFunction('convertToInteractive',\n",
              "                                                     [key], {});\n",
              "          if (!dataTable) return;\n",
              "\n",
              "          const docLinkHtml = 'Like what you see? Visit the ' +\n",
              "            '<a target=\"_blank\" href=https://colab.research.google.com/notebooks/data_table.ipynb>data table notebook</a>'\n",
              "            + ' to learn more about interactive tables.';\n",
              "          element.innerHTML = '';\n",
              "          dataTable['output_type'] = 'display_data';\n",
              "          await google.colab.output.renderOutput(dataTable, element);\n",
              "          const docLink = document.createElement('div');\n",
              "          docLink.innerHTML = docLinkHtml;\n",
              "          element.appendChild(docLink);\n",
              "        }\n",
              "      </script>\n",
              "    </div>\n",
              "  </div>\n",
              "  "
            ]
          },
          "metadata": {},
          "execution_count": 23
        }
      ]
    },
    {
      "cell_type": "markdown",
      "source": [
        "Para a media apenas dos imoveis da Vila Mariana"
      ],
      "metadata": {
        "id": "10sG9GUHr3kG"
      }
    },
    {
      "cell_type": "code",
      "source": [
        "imoveis_vila_mariana[\"Metragem\"].mean() "
      ],
      "metadata": {
        "colab": {
          "base_uri": "https://localhost:8080/"
        },
        "id": "2A7y65zvoVfj",
        "outputId": "3d05f9c9-9fbb-4f46-e3ca-6a12856cc734"
      },
      "execution_count": 25,
      "outputs": [
        {
          "output_type": "execute_result",
          "data": {
            "text/plain": [
              "233.6195652173913"
            ]
          },
          "metadata": {},
          "execution_count": 25
        }
      ]
    },
    {
      "cell_type": "markdown",
      "source": [
        "Para saber o numero de imoveis nos Bairros"
      ],
      "metadata": {
        "id": "z8HaXG18r5ph"
      }
    },
    {
      "cell_type": "code",
      "source": [
        "dados[\"Bairro\"].value_counts() "
      ],
      "metadata": {
        "colab": {
          "base_uri": "https://localhost:8080/"
        },
        "id": "_4zSgcDPpu30",
        "outputId": "c8bb1a5b-029e-40d8-b12f-cb919b36a016"
      },
      "execution_count": 26,
      "outputs": [
        {
          "output_type": "execute_result",
          "data": {
            "text/plain": [
              "Alto de Pinheiros     409\n",
              "Jardim Guedala        403\n",
              "Jardim Paulista       309\n",
              "Brooklin Paulista     247\n",
              "Jardim Europa         240\n",
              "                     ... \n",
              "Jardim das Imbuias      1\n",
              "Vila Represa            1\n",
              "Vila Nancy              1\n",
              "Sítio Represa           1\n",
              "Vila Invernada          1\n",
              "Name: Bairro, Length: 701, dtype: int64"
            ]
          },
          "metadata": {},
          "execution_count": 26
        }
      ]
    },
    {
      "cell_type": "markdown",
      "source": [
        "Para aparecer os graficos"
      ],
      "metadata": {
        "id": "giqxhFzfr7aT"
      }
    },
    {
      "cell_type": "code",
      "source": [
        "n_imoveis_bairro = dados[\"Bairro\"].value_counts()\n",
        "n_imoveis_bairro.head(10).plot.bar() "
      ],
      "metadata": {
        "colab": {
          "base_uri": "https://localhost:8080/",
          "height": 356
        },
        "id": "o06bOK72pzP6",
        "outputId": "80e0d7dd-fadc-44a2-a1e1-eeca34f459a0"
      },
      "execution_count": 30,
      "outputs": [
        {
          "output_type": "execute_result",
          "data": {
            "text/plain": [
              "<matplotlib.axes._subplots.AxesSubplot at 0x7f6d7c86f710>"
            ]
          },
          "metadata": {},
          "execution_count": 30
        },
        {
          "output_type": "display_data",
          "data": {
            "text/plain": [
              "<Figure size 432x288 with 1 Axes>"
            ],
            "image/png": "[encoded data removed]"
          },
          "metadata": {
            "needs_background": "light"
          }
        }
      ]
    },
    {
      "cell_type": "markdown",
      "source": [
        "# Desafio\n",
        "\n",
        "1 - Realizar a média da metragem para cara um dos bairros (Paulo)\n",
        "\n",
        "2 - 2 formas de selecionar os dados por bairro (consultar os métodos na documentação do pandas) (Thiago)\n",
        "\n",
        "3 - Explorar alguns gráficos na documentação e aplicar nas demais colunas do DF, tentar colocar alguma conclusão (Thiago)\n",
        "\n",
        "4 - Pegar outros estatísticas dos dados, média, mediana, mim, max (Vivi)\n",
        "\n",
        "5 - Descobrir quais são os bairros que não tem nome de Rua. (Vivi)"
      ],
      "metadata": {
        "id": "_vyNlNz-sF0k"
      }
    },
    {
      "cell_type": "markdown",
      "source": [
        "##1 - Realizar a média da metragem para cara um dos bairros (Paulo)"
      ],
      "metadata": {
        "id": "fUi1-Uqltn11"
      }
    },
    {
      "cell_type": "code",
      "source": [
        "dados.groupby(\"Bairro\")[\"Metragem\"].mean()"
      ],
      "metadata": {
        "colab": {
          "base_uri": "https://localhost:8080/"
        },
        "id": "yAibjBxHqw_s",
        "outputId": "c9af79d2-eb21-4602-cf8a-77cdbc9c6c13"
      },
      "execution_count": 31,
      "outputs": [
        {
          "output_type": "execute_result",
          "data": {
            "text/plain": [
              "Bairro\n",
              "Aclimação            253.056818\n",
              "Alto da Boa Vista    418.875000\n",
              "Alto da Lapa         294.337209\n",
              "Alto da Mooca        270.050000\n",
              "Alto de Pinheiros    433.444988\n",
              "                        ...    \n",
              "Vila Água Funda      152.200000\n",
              "Água Branca          191.000000\n",
              "Água Fria            165.416667\n",
              "Água Funda           139.000000\n",
              "Água Rasa            340.250000\n",
              "Name: Metragem, Length: 701, dtype: float64"
            ]
          },
          "metadata": {},
          "execution_count": 31
        }
      ]
    },
    {
      "cell_type": "markdown",
      "source": [
        "##2 - 2 formas de selecionar os dados por bairro (consultar os métodos na documentação do pandas) (Thiago)"
      ],
      "metadata": {
        "id": "0Lgj_12quaxh"
      }
    },
    {
      "cell_type": "code",
      "source": [
        "dados[dados[\"Bairro\"] == \"Vila Mariana\"]"
      ],
      "metadata": {
        "colab": {
          "base_uri": "https://localhost:8080/",
          "height": 423
        },
        "id": "5Bm021F2ub8I",
        "outputId": "8e9b8760-0158-454e-b34a-d046dd02d662"
      },
      "execution_count": 33,
      "outputs": [
        {
          "output_type": "execute_result",
          "data": {
            "text/plain": [
              "                               Rua        Bairro     Cidade  Metragem  \\\n",
              "100               Rua Pero Correia  Vila Mariana  São Paulo       250   \n",
              "120   Praça Doutor Carvalho Franco  Vila Mariana  São Paulo       250   \n",
              "155     Rua Professor João Marinho  Vila Mariana  São Paulo       170   \n",
              "160                            NaN  Vila Mariana  São Paulo       228   \n",
              "334         Rua Pero Correia, 892   Vila Mariana  São Paulo       350   \n",
              "...                            ...           ...        ...       ...   \n",
              "9645               Rua Sousa Ramos  Vila Mariana  São Paulo       285   \n",
              "9701             Rua Benito Juarez  Vila Mariana  São Paulo       171   \n",
              "9737             Rua Benito Juarez  Vila Mariana  São Paulo       171   \n",
              "9807                           NaN  Vila Mariana  São Paulo       275   \n",
              "9852              Rua França Pinto  Vila Mariana  São Paulo       280   \n",
              "\n",
              "      Quartos  Banheiros  Vagas         Valor  \n",
              "100         3          3      1  R$ 1.350.000  \n",
              "120         3          5      2  R$ 2.450.000  \n",
              "155         3          4      2  R$ 1.490.000  \n",
              "160         4          5      3  R$ 2.200.000  \n",
              "334         6          4     10  R$ 1.700.000  \n",
              "...       ...        ...    ...           ...  \n",
              "9645        3          5      5  R$ 1.650.000  \n",
              "9701        3          2      4  R$ 1.650.000  \n",
              "9737        3          2      4  R$ 1.650.000  \n",
              "9807        3          1      6  R$ 1.500.000  \n",
              "9852        3          3      4  R$ 1.600.000  \n",
              "\n",
              "[184 rows x 8 columns]"
            ],
            "text/html": [
              "\n",
              "  <div id=\"df-40b17a33-ce16-410f-9782-30be238def58\">\n",
              "    <div class=\"colab-df-container\">\n",
              "      <div>\n",
              "<style scoped>\n",
              "    .dataframe tbody tr th:only-of-type {\n",
              "        vertical-align: middle;\n",
              "    }\n",
              "\n",
              "    .dataframe tbody tr th {\n",
              "        vertical-align: top;\n",
              "    }\n",
              "\n",
              "    .dataframe thead th {\n",
              "        text-align: right;\n",
              "    }\n",
              "</style>\n",
              "<table border=\"1\" class=\"dataframe\">\n",
              "  <thead>\n",
              "    <tr style=\"text-align: right;\">\n",
              "      <th></th>\n",
              "      <th>Rua</th>\n",
              "      <th>Bairro</th>\n",
              "      <th>Cidade</th>\n",
              "      <th>Metragem</th>\n",
              "      <th>Quartos</th>\n",
              "      <th>Banheiros</th>\n",
              "      <th>Vagas</th>\n",
              "      <th>Valor</th>\n",
              "    </tr>\n",
              "  </thead>\n",
              "  <tbody>\n",
              "    <tr>\n",
              "      <th>100</th>\n",
              "      <td>Rua Pero Correia</td>\n",
              "      <td>Vila Mariana</td>\n",
              "      <td>São Paulo</td>\n",
              "      <td>250</td>\n",
              "      <td>3</td>\n",
              "      <td>3</td>\n",
              "      <td>1</td>\n",
              "      <td>R$ 1.350.000</td>\n",
              "    </tr>\n",
              "    <tr>\n",
              "      <th>120</th>\n",
              "      <td>Praça Doutor Carvalho Franco</td>\n",
              "      <td>Vila Mariana</td>\n",
              "      <td>São Paulo</td>\n",
              "      <td>250</td>\n",
              "      <td>3</td>\n",
              "      <td>5</td>\n",
              "      <td>2</td>\n",
              "      <td>R$ 2.450.000</td>\n",
              "    </tr>\n",
              "    <tr>\n",
              "      <th>155</th>\n",
              "      <td>Rua Professor João Marinho</td>\n",
              "      <td>Vila Mariana</td>\n",
              "      <td>São Paulo</td>\n",
              "      <td>170</td>\n",
              "      <td>3</td>\n",
              "      <td>4</td>\n",
              "      <td>2</td>\n",
              "      <td>R$ 1.490.000</td>\n",
              "    </tr>\n",
              "    <tr>\n",
              "      <th>160</th>\n",
              "      <td>NaN</td>\n",
              "      <td>Vila Mariana</td>\n",
              "      <td>São Paulo</td>\n",
              "      <td>228</td>\n",
              "      <td>4</td>\n",
              "      <td>5</td>\n",
              "      <td>3</td>\n",
              "      <td>R$ 2.200.000</td>\n",
              "    </tr>\n",
              "    <tr>\n",
              "      <th>334</th>\n",
              "      <td>Rua Pero Correia, 892</td>\n",
              "      <td>Vila Mariana</td>\n",
              "      <td>São Paulo</td>\n",
              "      <td>350</td>\n",
              "      <td>6</td>\n",
              "      <td>4</td>\n",
              "      <td>10</td>\n",
              "      <td>R$ 1.700.000</td>\n",
              "    </tr>\n",
              "    <tr>\n",
              "      <th>...</th>\n",
              "      <td>...</td>\n",
              "      <td>...</td>\n",
              "      <td>...</td>\n",
              "      <td>...</td>\n",
              "      <td>...</td>\n",
              "      <td>...</td>\n",
              "      <td>...</td>\n",
              "      <td>...</td>\n",
              "    </tr>\n",
              "    <tr>\n",
              "      <th>9645</th>\n",
              "      <td>Rua Sousa Ramos</td>\n",
              "      <td>Vila Mariana</td>\n",
              "      <td>São Paulo</td>\n",
              "      <td>285</td>\n",
              "      <td>3</td>\n",
              "      <td>5</td>\n",
              "      <td>5</td>\n",
              "      <td>R$ 1.650.000</td>\n",
              "    </tr>\n",
              "    <tr>\n",
              "      <th>9701</th>\n",
              "      <td>Rua Benito Juarez</td>\n",
              "      <td>Vila Mariana</td>\n",
              "      <td>São Paulo</td>\n",
              "      <td>171</td>\n",
              "      <td>3</td>\n",
              "      <td>2</td>\n",
              "      <td>4</td>\n",
              "      <td>R$ 1.650.000</td>\n",
              "    </tr>\n",
              "    <tr>\n",
              "      <th>9737</th>\n",
              "      <td>Rua Benito Juarez</td>\n",
              "      <td>Vila Mariana</td>\n",
              "      <td>São Paulo</td>\n",
              "      <td>171</td>\n",
              "      <td>3</td>\n",
              "      <td>2</td>\n",
              "      <td>4</td>\n",
              "      <td>R$ 1.650.000</td>\n",
              "    </tr>\n",
              "    <tr>\n",
              "      <th>9807</th>\n",
              "      <td>NaN</td>\n",
              "      <td>Vila Mariana</td>\n",
              "      <td>São Paulo</td>\n",
              "      <td>275</td>\n",
              "      <td>3</td>\n",
              "      <td>1</td>\n",
              "      <td>6</td>\n",
              "      <td>R$ 1.500.000</td>\n",
              "    </tr>\n",
              "    <tr>\n",
              "      <th>9852</th>\n",
              "      <td>Rua França Pinto</td>\n",
              "      <td>Vila Mariana</td>\n",
              "      <td>São Paulo</td>\n",
              "      <td>280</td>\n",
              "      <td>3</td>\n",
              "      <td>3</td>\n",
              "      <td>4</td>\n",
              "      <td>R$ 1.600.000</td>\n",
              "    </tr>\n",
              "  </tbody>\n",
              "</table>\n",
              "<p>184 rows × 8 columns</p>\n",
              "</div>\n",
              "      <button class=\"colab-df-convert\" onclick=\"convertToInteractive('df-40b17a33-ce16-410f-9782-30be238def58')\"\n",
              "              title=\"Convert this dataframe to an interactive table.\"\n",
              "              style=\"display:none;\">\n",
              "        \n",
              "  <svg xmlns=\"http://www.w3.org/2000/svg\" height=\"24px\"viewBox=\"0 0 24 24\"\n",
              "       width=\"24px\">\n",
              "    <path d=\"M0 0h24v24H0V0z\" fill=\"none\"/>\n",
              "    <path d=\"M18.56 5.44l.94 2.06.94-2.06 2.06-.94-2.06-.94-.94-2.06-.94 2.06-2.06.94zm-11 1L8.5 8.5l.94-2.06 2.06-.94-2.06-.94L8.5 2.5l-.94 2.06-2.06.94zm10 10l.94 2.06.94-2.06 2.06-.94-2.06-.94-.94-2.06-.94 2.06-2.06.94z\"/><path d=\"M17.41 7.96l-1.37-1.37c-.4-.4-.92-.59-1.43-.59-.52 0-1.04.2-1.43.59L10.3 9.45l-7.72 7.72c-.78.78-.78 2.05 0 2.83L4 21.41c.39.39.9.59 1.41.59.51 0 1.02-.2 1.41-.59l7.78-7.78 2.81-2.81c.8-.78.8-2.07 0-2.86zM5.41 20L4 18.59l7.72-7.72 1.47 1.35L5.41 20z\"/>\n",
              "  </svg>\n",
              "      </button>\n",
              "      \n",
              "  <style>\n",
              "    .colab-df-container {\n",
              "      display:flex;\n",
              "      flex-wrap:wrap;\n",
              "      gap: 12px;\n",
              "    }\n",
              "\n",
              "    .colab-df-convert {\n",
              "      background-color: #E8F0FE;\n",
              "      border: none;\n",
              "      border-radius: 50%;\n",
              "      cursor: pointer;\n",
              "      display: none;\n",
              "      fill: #1967D2;\n",
              "      height: 32px;\n",
              "      padding: 0 0 0 0;\n",
              "      width: 32px;\n",
              "    }\n",
              "\n",
              "    .colab-df-convert:hover {\n",
              "      background-color: #E2EBFA;\n",
              "      box-shadow: 0px 1px 2px rgba(60, 64, 67, 0.3), 0px 1px 3px 1px rgba(60, 64, 67, 0.15);\n",
              "      fill: #174EA6;\n",
              "    }\n",
              "\n",
              "    [theme=dark] .colab-df-convert {\n",
              "      background-color: #3B4455;\n",
              "      fill: #D2E3FC;\n",
              "    }\n",
              "\n",
              "    [theme=dark] .colab-df-convert:hover {\n",
              "      background-color: #434B5C;\n",
              "      box-shadow: 0px 1px 3px 1px rgba(0, 0, 0, 0.15);\n",
              "      filter: drop-shadow(0px 1px 2px rgba(0, 0, 0, 0.3));\n",
              "      fill: #FFFFFF;\n",
              "    }\n",
              "  </style>\n",
              "\n",
              "      <script>\n",
              "        const buttonEl =\n",
              "          document.querySelector('#df-40b17a33-ce16-410f-9782-30be238def58 button.colab-df-convert');\n",
              "        buttonEl.style.display =\n",
              "          google.colab.kernel.accessAllowed ? 'block' : 'none';\n",
              "\n",
              "        async function convertToInteractive(key) {\n",
              "          const element = document.querySelector('#df-40b17a33-ce16-410f-9782-30be238def58');\n",
              "          const dataTable =\n",
              "            await google.colab.kernel.invokeFunction('convertToInteractive',\n",
              "                                                     [key], {});\n",
              "          if (!dataTable) return;\n",
              "\n",
              "          const docLinkHtml = 'Like what you see? Visit the ' +\n",
              "            '<a target=\"_blank\" href=https://colab.research.google.com/notebooks/data_table.ipynb>data table notebook</a>'\n",
              "            + ' to learn more about interactive tables.';\n",
              "          element.innerHTML = '';\n",
              "          dataTable['output_type'] = 'display_data';\n",
              "          await google.colab.output.renderOutput(dataTable, element);\n",
              "          const docLink = document.createElement('div');\n",
              "          docLink.innerHTML = docLinkHtml;\n",
              "          element.appendChild(docLink);\n",
              "        }\n",
              "      </script>\n",
              "    </div>\n",
              "  </div>\n",
              "  "
            ]
          },
          "metadata": {},
          "execution_count": 33
        }
      ]
    },
    {
      "cell_type": "code",
      "source": [
        "values = [\"Vila Mariana\"]\n",
        "dados[dados[\"Bairro\"].isin(values)]"
      ],
      "metadata": {
        "colab": {
          "base_uri": "https://localhost:8080/",
          "height": 423
        },
        "id": "u8tpShP0vJD9",
        "outputId": "0dac46d0-209f-4614-eccf-e30b14412a9c"
      },
      "execution_count": 34,
      "outputs": [
        {
          "output_type": "execute_result",
          "data": {
            "text/plain": [
              "                               Rua        Bairro     Cidade  Metragem  \\\n",
              "100               Rua Pero Correia  Vila Mariana  São Paulo       250   \n",
              "120   Praça Doutor Carvalho Franco  Vila Mariana  São Paulo       250   \n",
              "155     Rua Professor João Marinho  Vila Mariana  São Paulo       170   \n",
              "160                            NaN  Vila Mariana  São Paulo       228   \n",
              "334         Rua Pero Correia, 892   Vila Mariana  São Paulo       350   \n",
              "...                            ...           ...        ...       ...   \n",
              "9645               Rua Sousa Ramos  Vila Mariana  São Paulo       285   \n",
              "9701             Rua Benito Juarez  Vila Mariana  São Paulo       171   \n",
              "9737             Rua Benito Juarez  Vila Mariana  São Paulo       171   \n",
              "9807                           NaN  Vila Mariana  São Paulo       275   \n",
              "9852              Rua França Pinto  Vila Mariana  São Paulo       280   \n",
              "\n",
              "      Quartos  Banheiros  Vagas         Valor  \n",
              "100         3          3      1  R$ 1.350.000  \n",
              "120         3          5      2  R$ 2.450.000  \n",
              "155         3          4      2  R$ 1.490.000  \n",
              "160         4          5      3  R$ 2.200.000  \n",
              "334         6          4     10  R$ 1.700.000  \n",
              "...       ...        ...    ...           ...  \n",
              "9645        3          5      5  R$ 1.650.000  \n",
              "9701        3          2      4  R$ 1.650.000  \n",
              "9737        3          2      4  R$ 1.650.000  \n",
              "9807        3          1      6  R$ 1.500.000  \n",
              "9852        3          3      4  R$ 1.600.000  \n",
              "\n",
              "[184 rows x 8 columns]"
            ],
            "text/html": [
              "\n",
              "  <div id=\"df-c3ba7554-92a0-4ea3-b186-a9cf1d1b9bf5\">\n",
              "    <div class=\"colab-df-container\">\n",
              "      <div>\n",
              "<style scoped>\n",
              "    .dataframe tbody tr th:only-of-type {\n",
              "        vertical-align: middle;\n",
              "    }\n",
              "\n",
              "    .dataframe tbody tr th {\n",
              "        vertical-align: top;\n",
              "    }\n",
              "\n",
              "    .dataframe thead th {\n",
              "        text-align: right;\n",
              "    }\n",
              "</style>\n",
              "<table border=\"1\" class=\"dataframe\">\n",
              "  <thead>\n",
              "    <tr style=\"text-align: right;\">\n",
              "      <th></th>\n",
              "      <th>Rua</th>\n",
              "      <th>Bairro</th>\n",
              "      <th>Cidade</th>\n",
              "      <th>Metragem</th>\n",
              "      <th>Quartos</th>\n",
              "      <th>Banheiros</th>\n",
              "      <th>Vagas</th>\n",
              "      <th>Valor</th>\n",
              "    </tr>\n",
              "  </thead>\n",
              "  <tbody>\n",
              "    <tr>\n",
              "      <th>100</th>\n",
              "      <td>Rua Pero Correia</td>\n",
              "      <td>Vila Mariana</td>\n",
              "      <td>São Paulo</td>\n",
              "      <td>250</td>\n",
              "      <td>3</td>\n",
              "      <td>3</td>\n",
              "      <td>1</td>\n",
              "      <td>R$ 1.350.000</td>\n",
              "    </tr>\n",
              "    <tr>\n",
              "      <th>120</th>\n",
              "      <td>Praça Doutor Carvalho Franco</td>\n",
              "      <td>Vila Mariana</td>\n",
              "      <td>São Paulo</td>\n",
              "      <td>250</td>\n",
              "      <td>3</td>\n",
              "      <td>5</td>\n",
              "      <td>2</td>\n",
              "      <td>R$ 2.450.000</td>\n",
              "    </tr>\n",
              "    <tr>\n",
              "      <th>155</th>\n",
              "      <td>Rua Professor João Marinho</td>\n",
              "      <td>Vila Mariana</td>\n",
              "      <td>São Paulo</td>\n",
              "      <td>170</td>\n",
              "      <td>3</td>\n",
              "      <td>4</td>\n",
              "      <td>2</td>\n",
              "      <td>R$ 1.490.000</td>\n",
              "    </tr>\n",
              "    <tr>\n",
              "      <th>160</th>\n",
              "      <td>NaN</td>\n",
              "      <td>Vila Mariana</td>\n",
              "      <td>São Paulo</td>\n",
              "      <td>228</td>\n",
              "      <td>4</td>\n",
              "      <td>5</td>\n",
              "      <td>3</td>\n",
              "      <td>R$ 2.200.000</td>\n",
              "    </tr>\n",
              "    <tr>\n",
              "      <th>334</th>\n",
              "      <td>Rua Pero Correia, 892</td>\n",
              "      <td>Vila Mariana</td>\n",
              "      <td>São Paulo</td>\n",
              "      <td>350</td>\n",
              "      <td>6</td>\n",
              "      <td>4</td>\n",
              "      <td>10</td>\n",
              "      <td>R$ 1.700.000</td>\n",
              "    </tr>\n",
              "    <tr>\n",
              "      <th>...</th>\n",
              "      <td>...</td>\n",
              "      <td>...</td>\n",
              "      <td>...</td>\n",
              "      <td>...</td>\n",
              "      <td>...</td>\n",
              "      <td>...</td>\n",
              "      <td>...</td>\n",
              "      <td>...</td>\n",
              "    </tr>\n",
              "    <tr>\n",
              "      <th>9645</th>\n",
              "      <td>Rua Sousa Ramos</td>\n",
              "      <td>Vila Mariana</td>\n",
              "      <td>São Paulo</td>\n",
              "      <td>285</td>\n",
              "      <td>3</td>\n",
              "      <td>5</td>\n",
              "      <td>5</td>\n",
              "      <td>R$ 1.650.000</td>\n",
              "    </tr>\n",
              "    <tr>\n",
              "      <th>9701</th>\n",
              "      <td>Rua Benito Juarez</td>\n",
              "      <td>Vila Mariana</td>\n",
              "      <td>São Paulo</td>\n",
              "      <td>171</td>\n",
              "      <td>3</td>\n",
              "      <td>2</td>\n",
              "      <td>4</td>\n",
              "      <td>R$ 1.650.000</td>\n",
              "    </tr>\n",
              "    <tr>\n",
              "      <th>9737</th>\n",
              "      <td>Rua Benito Juarez</td>\n",
              "      <td>Vila Mariana</td>\n",
              "      <td>São Paulo</td>\n",
              "      <td>171</td>\n",
              "      <td>3</td>\n",
              "      <td>2</td>\n",
              "      <td>4</td>\n",
              "      <td>R$ 1.650.000</td>\n",
              "    </tr>\n",
              "    <tr>\n",
              "      <th>9807</th>\n",
              "      <td>NaN</td>\n",
              "      <td>Vila Mariana</td>\n",
              "      <td>São Paulo</td>\n",
              "      <td>275</td>\n",
              "      <td>3</td>\n",
              "      <td>1</td>\n",
              "      <td>6</td>\n",
              "      <td>R$ 1.500.000</td>\n",
              "    </tr>\n",
              "    <tr>\n",
              "      <th>9852</th>\n",
              "      <td>Rua França Pinto</td>\n",
              "      <td>Vila Mariana</td>\n",
              "      <td>São Paulo</td>\n",
              "      <td>280</td>\n",
              "      <td>3</td>\n",
              "      <td>3</td>\n",
              "      <td>4</td>\n",
              "      <td>R$ 1.600.000</td>\n",
              "    </tr>\n",
              "  </tbody>\n",
              "</table>\n",
              "<p>184 rows × 8 columns</p>\n",
              "</div>\n",
              "      <button class=\"colab-df-convert\" onclick=\"convertToInteractive('df-c3ba7554-92a0-4ea3-b186-a9cf1d1b9bf5')\"\n",
              "              title=\"Convert this dataframe to an interactive table.\"\n",
              "              style=\"display:none;\">\n",
              "        \n",
              "  <svg xmlns=\"http://www.w3.org/2000/svg\" height=\"24px\"viewBox=\"0 0 24 24\"\n",
              "       width=\"24px\">\n",
              "    <path d=\"M0 0h24v24H0V0z\" fill=\"none\"/>\n",
              "    <path d=\"M18.56 5.44l.94 2.06.94-2.06 2.06-.94-2.06-.94-.94-2.06-.94 2.06-2.06.94zm-11 1L8.5 8.5l.94-2.06 2.06-.94-2.06-.94L8.5 2.5l-.94 2.06-2.06.94zm10 10l.94 2.06.94-2.06 2.06-.94-2.06-.94-.94-2.06-.94 2.06-2.06.94z\"/><path d=\"M17.41 7.96l-1.37-1.37c-.4-.4-.92-.59-1.43-.59-.52 0-1.04.2-1.43.59L10.3 9.45l-7.72 7.72c-.78.78-.78 2.05 0 2.83L4 21.41c.39.39.9.59 1.41.59.51 0 1.02-.2 1.41-.59l7.78-7.78 2.81-2.81c.8-.78.8-2.07 0-2.86zM5.41 20L4 18.59l7.72-7.72 1.47 1.35L5.41 20z\"/>\n",
              "  </svg>\n",
              "      </button>\n",
              "      \n",
              "  <style>\n",
              "    .colab-df-container {\n",
              "      display:flex;\n",
              "      flex-wrap:wrap;\n",
              "      gap: 12px;\n",
              "    }\n",
              "\n",
              "    .colab-df-convert {\n",
              "      background-color: #E8F0FE;\n",
              "      border: none;\n",
              "      border-radius: 50%;\n",
              "      cursor: pointer;\n",
              "      display: none;\n",
              "      fill: #1967D2;\n",
              "      height: 32px;\n",
              "      padding: 0 0 0 0;\n",
              "      width: 32px;\n",
              "    }\n",
              "\n",
              "    .colab-df-convert:hover {\n",
              "      background-color: #E2EBFA;\n",
              "      box-shadow: 0px 1px 2px rgba(60, 64, 67, 0.3), 0px 1px 3px 1px rgba(60, 64, 67, 0.15);\n",
              "      fill: #174EA6;\n",
              "    }\n",
              "\n",
              "    [theme=dark] .colab-df-convert {\n",
              "      background-color: #3B4455;\n",
              "      fill: #D2E3FC;\n",
              "    }\n",
              "\n",
              "    [theme=dark] .colab-df-convert:hover {\n",
              "      background-color: #434B5C;\n",
              "      box-shadow: 0px 1px 3px 1px rgba(0, 0, 0, 0.15);\n",
              "      filter: drop-shadow(0px 1px 2px rgba(0, 0, 0, 0.3));\n",
              "      fill: #FFFFFF;\n",
              "    }\n",
              "  </style>\n",
              "\n",
              "      <script>\n",
              "        const buttonEl =\n",
              "          document.querySelector('#df-c3ba7554-92a0-4ea3-b186-a9cf1d1b9bf5 button.colab-df-convert');\n",
              "        buttonEl.style.display =\n",
              "          google.colab.kernel.accessAllowed ? 'block' : 'none';\n",
              "\n",
              "        async function convertToInteractive(key) {\n",
              "          const element = document.querySelector('#df-c3ba7554-92a0-4ea3-b186-a9cf1d1b9bf5');\n",
              "          const dataTable =\n",
              "            await google.colab.kernel.invokeFunction('convertToInteractive',\n",
              "                                                     [key], {});\n",
              "          if (!dataTable) return;\n",
              "\n",
              "          const docLinkHtml = 'Like what you see? Visit the ' +\n",
              "            '<a target=\"_blank\" href=https://colab.research.google.com/notebooks/data_table.ipynb>data table notebook</a>'\n",
              "            + ' to learn more about interactive tables.';\n",
              "          element.innerHTML = '';\n",
              "          dataTable['output_type'] = 'display_data';\n",
              "          await google.colab.output.renderOutput(dataTable, element);\n",
              "          const docLink = document.createElement('div');\n",
              "          docLink.innerHTML = docLinkHtml;\n",
              "          element.appendChild(docLink);\n",
              "        }\n",
              "      </script>\n",
              "    </div>\n",
              "  </div>\n",
              "  "
            ]
          },
          "metadata": {},
          "execution_count": 34
        }
      ]
    },
    {
      "cell_type": "markdown",
      "source": [
        "##3 - Explorar alguns gráficos na documentação e aplicar nas demais colunas do DF, tentar colocar alguma conclusão (Thiago)"
      ],
      "metadata": {
        "id": "GuOYtftIwElX"
      }
    },
    {
      "cell_type": "code",
      "source": [
        "n_imoveis_banheiro = dados[\"Banheiros\"].value_counts()\n",
        "n_imoveis_banheiro.head(10).plot(kind = 'barh', title = \"Banheiros\")"
      ],
      "metadata": {
        "colab": {
          "base_uri": "https://localhost:8080/",
          "height": 298
        },
        "id": "kwmdNDTjwFue",
        "outputId": "fb36b8d0-3b3a-473d-e849-3d2b5a5aea40"
      },
      "execution_count": 66,
      "outputs": [
        {
          "output_type": "execute_result",
          "data": {
            "text/plain": [
              "<matplotlib.axes._subplots.AxesSubplot at 0x7f6d78ede410>"
            ]
          },
          "metadata": {},
          "execution_count": 66
        },
        {
          "output_type": "display_data",
          "data": {
            "text/plain": [
              "<Figure size 432x288 with 1 Axes>"
            ],
            "image/png": "[encoded data removed]"
          },
          "metadata": {
            "needs_background": "light"
          }
        }
      ]
    },
    {
      "cell_type": "markdown",
      "source": [
        "Com isso podemos concluir que a maioria das casas tem 3 Banheiros"
      ],
      "metadata": {
        "id": "it2e9-oawuuz"
      }
    },
    {
      "cell_type": "code",
      "source": [
        "n_imoveis_vagas = dados[\"Vagas\"].value_counts()\n",
        "n_imoveis_vagas.head(5).plot(kind = 'pie', title = 'Vagas', autopct = '%0.2f%%')"
      ],
      "metadata": {
        "colab": {
          "base_uri": "https://localhost:8080/",
          "height": 282
        },
        "id": "5m9gYoOQyPb5",
        "outputId": "b52df541-c20c-43ac-988d-fe7decd295f1"
      },
      "execution_count": 67,
      "outputs": [
        {
          "output_type": "execute_result",
          "data": {
            "text/plain": [
              "<matplotlib.axes._subplots.AxesSubplot at 0x7f6d78e75690>"
            ]
          },
          "metadata": {},
          "execution_count": 67
        },
        {
          "output_type": "display_data",
          "data": {
            "text/plain": [
              "<Figure size 432x288 with 1 Axes>"
            ],
            "image/png": "[encoded data removed]"
          },
          "metadata": {}
        }
      ]
    },
    {
      "cell_type": "markdown",
      "source": [
        "Com isso podemos analisar que a maioria das casas tem 2 ou 4 vagas de garagem"
      ],
      "metadata": {
        "id": "fGVS5mJGz_LO"
      }
    },
    {
      "cell_type": "markdown",
      "source": [
        "##4 - Pegar outros estatísticas dos dados, média, mediana, mim, max (Vivi)"
      ],
      "metadata": {
        "id": "piE6pFdo0pAk"
      }
    },
    {
      "cell_type": "code",
      "source": [
        "Vagas = dados[\"Vagas\"].mean()\n",
        "Metragem = dados[\"Metragem\"].max()\n",
        "Banheiros = dados[\"Banheiros\"].median()\n",
        "Quartos = dados[\"Quartos\"].min()\n",
        "\n",
        "print(Vagas)\n",
        "print(Metragem)\n",
        "print(Banheiros)\n",
        "print(Quartos)"
      ],
      "metadata": {
        "colab": {
          "base_uri": "https://localhost:8080/"
        },
        "id": "pDMM2PK50q0f",
        "outputId": "e4b8913e-e391-42ec-c3aa-ec82e06bc767"
      },
      "execution_count": 75,
      "outputs": [
        {
          "output_type": "stream",
          "name": "stdout",
          "text": [
            "4.097222222222222\n",
            "750000\n",
            "4.0\n",
            "1\n"
          ]
        }
      ]
    },
    {
      "cell_type": "markdown",
      "source": [
        "##5 - Descobrir quais são os bairros que não tem nome de Rua. (Vivi)"
      ],
      "metadata": {
        "id": "3IjAp3eo096N"
      }
    },
    {
      "cell_type": "code",
      "source": [
        "dados[dados['Rua'].isnull()].drop_duplicates(subset = \"Bairro\")"
      ],
      "metadata": {
        "colab": {
          "base_uri": "https://localhost:8080/",
          "height": 423
        },
        "id": "bK9UKYry2DVj",
        "outputId": "8276074e-9b21-41de-b7a3-71429fab64fc"
      },
      "execution_count": 80,
      "outputs": [
        {
          "output_type": "execute_result",
          "data": {
            "text/plain": [
              "      Rua                            Bairro     Cidade  Metragem  Quartos  \\\n",
              "3     NaN                    Jardim Morumbi  São Paulo       310        3   \n",
              "11    NaN                  Jardim Luzitânia  São Paulo       436        4   \n",
              "31    NaN                    Parque da Lapa  São Paulo       220        4   \n",
              "56    NaN  Chácara Santo Antônio (Zona Sul)  São Paulo       190        2   \n",
              "57    NaN                    Jardim Guedala  São Paulo       650        4   \n",
              "...   ...                               ...        ...       ...      ...   \n",
              "9672  NaN               Jardim Vila Formosa  São Paulo        90        2   \n",
              "9774  NaN                            Cupecê  São Paulo       123        3   \n",
              "9780  NaN                  Jardim Itacolomi  São Paulo       250        3   \n",
              "9816  NaN                         Água Rasa  São Paulo       180        3   \n",
              "9917  NaN              Parque Alves de Lima  São Paulo       122        2   \n",
              "\n",
              "      Banheiros  Vagas         Valor  \n",
              "3             2      4    R$ 685.000  \n",
              "11            3      3     R$ 15.000  \n",
              "31            4      3    R$ 849.000  \n",
              "56            2      2  R$ 1.100.000  \n",
              "57            6      4  R$ 5.500.000  \n",
              "...         ...    ...           ...  \n",
              "9672          1      1    R$ 430.000  \n",
              "9774          1      2    R$ 600.000  \n",
              "9780          2      2    R$ 550.000  \n",
              "9816          2      4    R$ 745.000  \n",
              "9917          1      2    R$ 400.000  \n",
              "\n",
              "[394 rows x 8 columns]"
            ],
            "text/html": [
              "\n",
              "  <div id=\"df-4ab32e03-26e6-409c-8afa-fad6bafb0a91\">\n",
              "    <div class=\"colab-df-container\">\n",
              "      <div>\n",
              "<style scoped>\n",
              "    .dataframe tbody tr th:only-of-type {\n",
              "        vertical-align: middle;\n",
              "    }\n",
              "\n",
              "    .dataframe tbody tr th {\n",
              "        vertical-align: top;\n",
              "    }\n",
              "\n",
              "    .dataframe thead th {\n",
              "        text-align: right;\n",
              "    }\n",
              "</style>\n",
              "<table border=\"1\" class=\"dataframe\">\n",
              "  <thead>\n",
              "    <tr style=\"text-align: right;\">\n",
              "      <th></th>\n",
              "      <th>Rua</th>\n",
              "      <th>Bairro</th>\n",
              "      <th>Cidade</th>\n",
              "      <th>Metragem</th>\n",
              "      <th>Quartos</th>\n",
              "      <th>Banheiros</th>\n",
              "      <th>Vagas</th>\n",
              "      <th>Valor</th>\n",
              "    </tr>\n",
              "  </thead>\n",
              "  <tbody>\n",
              "    <tr>\n",
              "      <th>3</th>\n",
              "      <td>NaN</td>\n",
              "      <td>Jardim Morumbi</td>\n",
              "      <td>São Paulo</td>\n",
              "      <td>310</td>\n",
              "      <td>3</td>\n",
              "      <td>2</td>\n",
              "      <td>4</td>\n",
              "      <td>R$ 685.000</td>\n",
              "    </tr>\n",
              "    <tr>\n",
              "      <th>11</th>\n",
              "      <td>NaN</td>\n",
              "      <td>Jardim Luzitânia</td>\n",
              "      <td>São Paulo</td>\n",
              "      <td>436</td>\n",
              "      <td>4</td>\n",
              "      <td>3</td>\n",
              "      <td>3</td>\n",
              "      <td>R$ 15.000</td>\n",
              "    </tr>\n",
              "    <tr>\n",
              "      <th>31</th>\n",
              "      <td>NaN</td>\n",
              "      <td>Parque da Lapa</td>\n",
              "      <td>São Paulo</td>\n",
              "      <td>220</td>\n",
              "      <td>4</td>\n",
              "      <td>4</td>\n",
              "      <td>3</td>\n",
              "      <td>R$ 849.000</td>\n",
              "    </tr>\n",
              "    <tr>\n",
              "      <th>56</th>\n",
              "      <td>NaN</td>\n",
              "      <td>Chácara Santo Antônio (Zona Sul)</td>\n",
              "      <td>São Paulo</td>\n",
              "      <td>190</td>\n",
              "      <td>2</td>\n",
              "      <td>2</td>\n",
              "      <td>2</td>\n",
              "      <td>R$ 1.100.000</td>\n",
              "    </tr>\n",
              "    <tr>\n",
              "      <th>57</th>\n",
              "      <td>NaN</td>\n",
              "      <td>Jardim Guedala</td>\n",
              "      <td>São Paulo</td>\n",
              "      <td>650</td>\n",
              "      <td>4</td>\n",
              "      <td>6</td>\n",
              "      <td>4</td>\n",
              "      <td>R$ 5.500.000</td>\n",
              "    </tr>\n",
              "    <tr>\n",
              "      <th>...</th>\n",
              "      <td>...</td>\n",
              "      <td>...</td>\n",
              "      <td>...</td>\n",
              "      <td>...</td>\n",
              "      <td>...</td>\n",
              "      <td>...</td>\n",
              "      <td>...</td>\n",
              "      <td>...</td>\n",
              "    </tr>\n",
              "    <tr>\n",
              "      <th>9672</th>\n",
              "      <td>NaN</td>\n",
              "      <td>Jardim Vila Formosa</td>\n",
              "      <td>São Paulo</td>\n",
              "      <td>90</td>\n",
              "      <td>2</td>\n",
              "      <td>1</td>\n",
              "      <td>1</td>\n",
              "      <td>R$ 430.000</td>\n",
              "    </tr>\n",
              "    <tr>\n",
              "      <th>9774</th>\n",
              "      <td>NaN</td>\n",
              "      <td>Cupecê</td>\n",
              "      <td>São Paulo</td>\n",
              "      <td>123</td>\n",
              "      <td>3</td>\n",
              "      <td>1</td>\n",
              "      <td>2</td>\n",
              "      <td>R$ 600.000</td>\n",
              "    </tr>\n",
              "    <tr>\n",
              "      <th>9780</th>\n",
              "      <td>NaN</td>\n",
              "      <td>Jardim Itacolomi</td>\n",
              "      <td>São Paulo</td>\n",
              "      <td>250</td>\n",
              "      <td>3</td>\n",
              "      <td>2</td>\n",
              "      <td>2</td>\n",
              "      <td>R$ 550.000</td>\n",
              "    </tr>\n",
              "    <tr>\n",
              "      <th>9816</th>\n",
              "      <td>NaN</td>\n",
              "      <td>Água Rasa</td>\n",
              "      <td>São Paulo</td>\n",
              "      <td>180</td>\n",
              "      <td>3</td>\n",
              "      <td>2</td>\n",
              "      <td>4</td>\n",
              "      <td>R$ 745.000</td>\n",
              "    </tr>\n",
              "    <tr>\n",
              "      <th>9917</th>\n",
              "      <td>NaN</td>\n",
              "      <td>Parque Alves de Lima</td>\n",
              "      <td>São Paulo</td>\n",
              "      <td>122</td>\n",
              "      <td>2</td>\n",
              "      <td>1</td>\n",
              "      <td>2</td>\n",
              "      <td>R$ 400.000</td>\n",
              "    </tr>\n",
              "  </tbody>\n",
              "</table>\n",
              "<p>394 rows × 8 columns</p>\n",
              "</div>\n",
              "      <button class=\"colab-df-convert\" onclick=\"convertToInteractive('df-4ab32e03-26e6-409c-8afa-fad6bafb0a91')\"\n",
              "              title=\"Convert this dataframe to an interactive table.\"\n",
              "              style=\"display:none;\">\n",
              "        \n",
              "  <svg xmlns=\"http://www.w3.org/2000/svg\" height=\"24px\"viewBox=\"0 0 24 24\"\n",
              "       width=\"24px\">\n",
              "    <path d=\"M0 0h24v24H0V0z\" fill=\"none\"/>\n",
              "    <path d=\"M18.56 5.44l.94 2.06.94-2.06 2.06-.94-2.06-.94-.94-2.06-.94 2.06-2.06.94zm-11 1L8.5 8.5l.94-2.06 2.06-.94-2.06-.94L8.5 2.5l-.94 2.06-2.06.94zm10 10l.94 2.06.94-2.06 2.06-.94-2.06-.94-.94-2.06-.94 2.06-2.06.94z\"/><path d=\"M17.41 7.96l-1.37-1.37c-.4-.4-.92-.59-1.43-.59-.52 0-1.04.2-1.43.59L10.3 9.45l-7.72 7.72c-.78.78-.78 2.05 0 2.83L4 21.41c.39.39.9.59 1.41.59.51 0 1.02-.2 1.41-.59l7.78-7.78 2.81-2.81c.8-.78.8-2.07 0-2.86zM5.41 20L4 18.59l7.72-7.72 1.47 1.35L5.41 20z\"/>\n",
              "  </svg>\n",
              "      </button>\n",
              "      \n",
              "  <style>\n",
              "    .colab-df-container {\n",
              "      display:flex;\n",
              "      flex-wrap:wrap;\n",
              "      gap: 12px;\n",
              "    }\n",
              "\n",
              "    .colab-df-convert {\n",
              "      background-color: #E8F0FE;\n",
              "      border: none;\n",
              "      border-radius: 50%;\n",
              "      cursor: pointer;\n",
              "      display: none;\n",
              "      fill: #1967D2;\n",
              "      height: 32px;\n",
              "      padding: 0 0 0 0;\n",
              "      width: 32px;\n",
              "    }\n",
              "\n",
              "    .colab-df-convert:hover {\n",
              "      background-color: #E2EBFA;\n",
              "      box-shadow: 0px 1px 2px rgba(60, 64, 67, 0.3), 0px 1px 3px 1px rgba(60, 64, 67, 0.15);\n",
              "      fill: #174EA6;\n",
              "    }\n",
              "\n",
              "    [theme=dark] .colab-df-convert {\n",
              "      background-color: #3B4455;\n",
              "      fill: #D2E3FC;\n",
              "    }\n",
              "\n",
              "    [theme=dark] .colab-df-convert:hover {\n",
              "      background-color: #434B5C;\n",
              "      box-shadow: 0px 1px 3px 1px rgba(0, 0, 0, 0.15);\n",
              "      filter: drop-shadow(0px 1px 2px rgba(0, 0, 0, 0.3));\n",
              "      fill: #FFFFFF;\n",
              "    }\n",
              "  </style>\n",
              "\n",
              "      <script>\n",
              "        const buttonEl =\n",
              "          document.querySelector('#df-4ab32e03-26e6-409c-8afa-fad6bafb0a91 button.colab-df-convert');\n",
              "        buttonEl.style.display =\n",
              "          google.colab.kernel.accessAllowed ? 'block' : 'none';\n",
              "\n",
              "        async function convertToInteractive(key) {\n",
              "          const element = document.querySelector('#df-4ab32e03-26e6-409c-8afa-fad6bafb0a91');\n",
              "          const dataTable =\n",
              "            await google.colab.kernel.invokeFunction('convertToInteractive',\n",
              "                                                     [key], {});\n",
              "          if (!dataTable) return;\n",
              "\n",
              "          const docLinkHtml = 'Like what you see? Visit the ' +\n",
              "            '<a target=\"_blank\" href=https://colab.research.google.com/notebooks/data_table.ipynb>data table notebook</a>'\n",
              "            + ' to learn more about interactive tables.';\n",
              "          element.innerHTML = '';\n",
              "          dataTable['output_type'] = 'display_data';\n",
              "          await google.colab.output.renderOutput(dataTable, element);\n",
              "          const docLink = document.createElement('div');\n",
              "          docLink.innerHTML = docLinkHtml;\n",
              "          element.appendChild(docLink);\n",
              "        }\n",
              "      </script>\n",
              "    </div>\n",
              "  </div>\n",
              "  "
            ]
          },
          "metadata": {},
          "execution_count": 80
        }
      ]
    }
  ]
}